{
 "cells": [
  {
   "source": [
    "### Importing required library "
   ],
   "cell_type": "markdown",
   "metadata": {}
  },
  {
   "cell_type": "code",
   "execution_count": 12,
   "metadata": {},
   "outputs": [],
   "source": [
    "import pandas as pd\n",
    "from scipy import stats\n",
    "import numpy as np"
   ]
  },
  {
   "source": [
    "### Reading data from one of the datasets and preview it"
   ],
   "cell_type": "markdown",
   "metadata": {}
  },
  {
   "cell_type": "code",
   "execution_count": 13,
   "metadata": {},
   "outputs": [
    {
     "output_type": "execute_result",
     "data": {
      "text/plain": [
       "        Temperature         GSR        EOG1        EOG2        EEG1  \\\n",
       "0           15404.0  14456140.0  15336120.0  16776161.0   4031711.0   \n",
       "1           15404.0  14341397.0  15336324.0  16776164.0   4483347.0   \n",
       "2           15404.0  14192337.0  15337673.0  16776194.0   4887349.0   \n",
       "3           15404.0  14338432.0  15337555.0  16776200.0   4306698.0   \n",
       "4           15404.0  14421469.0  15337494.0  16776171.0   3842609.0   \n",
       "...             ...         ...         ...         ...         ...   \n",
       "277995      15522.0  16384102.0  16529564.0  16776179.0  16513047.0   \n",
       "277996      15522.0  16397812.0  16529640.0  16776184.0  16519450.0   \n",
       "277997      15522.0  16406761.0  16529335.0  16776185.0  16516341.0   \n",
       "277998      15522.0  16392256.0  16529440.0  16776182.0  16518429.0   \n",
       "277999      15522.0  16384164.0  16529535.0  16776182.0  16519540.0   \n",
       "\n",
       "              EEG2  RED_RAW   IR_RAW  Arousal  Dominance  Valence  \n",
       "0       14321874.0  63113.0  83255.0        4          5        6  \n",
       "1       14300379.0  63113.0  83255.0        4          5        6  \n",
       "2       14255666.0  63113.0  83255.0        4          5        6  \n",
       "3       14285075.0  63113.0  83255.0        4          5        6  \n",
       "4       14288817.0  63113.0  83255.0        4          5        6  \n",
       "...            ...      ...      ...      ...        ...      ...  \n",
       "277995    128986.0  59537.0  78680.0        4          5        6  \n",
       "277996    131112.0  59537.0  78680.0        4          5        6  \n",
       "277997    130823.0  59537.0  78680.0        4          5        6  \n",
       "277998    130300.0  59537.0  78680.0        4          5        6  \n",
       "277999    130094.0  59537.0  78680.0        4          5        6  \n",
       "\n",
       "[278000 rows x 11 columns]"
      ],
      "text/html": "<div>\n<style scoped>\n    .dataframe tbody tr th:only-of-type {\n        vertical-align: middle;\n    }\n\n    .dataframe tbody tr th {\n        vertical-align: top;\n    }\n\n    .dataframe thead th {\n        text-align: right;\n    }\n</style>\n<table border=\"1\" class=\"dataframe\">\n  <thead>\n    <tr style=\"text-align: right;\">\n      <th></th>\n      <th>Temperature</th>\n      <th>GSR</th>\n      <th>EOG1</th>\n      <th>EOG2</th>\n      <th>EEG1</th>\n      <th>EEG2</th>\n      <th>RED_RAW</th>\n      <th>IR_RAW</th>\n      <th>Arousal</th>\n      <th>Dominance</th>\n      <th>Valence</th>\n    </tr>\n  </thead>\n  <tbody>\n    <tr>\n      <th>0</th>\n      <td>15404.0</td>\n      <td>14456140.0</td>\n      <td>15336120.0</td>\n      <td>16776161.0</td>\n      <td>4031711.0</td>\n      <td>14321874.0</td>\n      <td>63113.0</td>\n      <td>83255.0</td>\n      <td>4</td>\n      <td>5</td>\n      <td>6</td>\n    </tr>\n    <tr>\n      <th>1</th>\n      <td>15404.0</td>\n      <td>14341397.0</td>\n      <td>15336324.0</td>\n      <td>16776164.0</td>\n      <td>4483347.0</td>\n      <td>14300379.0</td>\n      <td>63113.0</td>\n      <td>83255.0</td>\n      <td>4</td>\n      <td>5</td>\n      <td>6</td>\n    </tr>\n    <tr>\n      <th>2</th>\n      <td>15404.0</td>\n      <td>14192337.0</td>\n      <td>15337673.0</td>\n      <td>16776194.0</td>\n      <td>4887349.0</td>\n      <td>14255666.0</td>\n      <td>63113.0</td>\n      <td>83255.0</td>\n      <td>4</td>\n      <td>5</td>\n      <td>6</td>\n    </tr>\n    <tr>\n      <th>3</th>\n      <td>15404.0</td>\n      <td>14338432.0</td>\n      <td>15337555.0</td>\n      <td>16776200.0</td>\n      <td>4306698.0</td>\n      <td>14285075.0</td>\n      <td>63113.0</td>\n      <td>83255.0</td>\n      <td>4</td>\n      <td>5</td>\n      <td>6</td>\n    </tr>\n    <tr>\n      <th>4</th>\n      <td>15404.0</td>\n      <td>14421469.0</td>\n      <td>15337494.0</td>\n      <td>16776171.0</td>\n      <td>3842609.0</td>\n      <td>14288817.0</td>\n      <td>63113.0</td>\n      <td>83255.0</td>\n      <td>4</td>\n      <td>5</td>\n      <td>6</td>\n    </tr>\n    <tr>\n      <th>...</th>\n      <td>...</td>\n      <td>...</td>\n      <td>...</td>\n      <td>...</td>\n      <td>...</td>\n      <td>...</td>\n      <td>...</td>\n      <td>...</td>\n      <td>...</td>\n      <td>...</td>\n      <td>...</td>\n    </tr>\n    <tr>\n      <th>277995</th>\n      <td>15522.0</td>\n      <td>16384102.0</td>\n      <td>16529564.0</td>\n      <td>16776179.0</td>\n      <td>16513047.0</td>\n      <td>128986.0</td>\n      <td>59537.0</td>\n      <td>78680.0</td>\n      <td>4</td>\n      <td>5</td>\n      <td>6</td>\n    </tr>\n    <tr>\n      <th>277996</th>\n      <td>15522.0</td>\n      <td>16397812.0</td>\n      <td>16529640.0</td>\n      <td>16776184.0</td>\n      <td>16519450.0</td>\n      <td>131112.0</td>\n      <td>59537.0</td>\n      <td>78680.0</td>\n      <td>4</td>\n      <td>5</td>\n      <td>6</td>\n    </tr>\n    <tr>\n      <th>277997</th>\n      <td>15522.0</td>\n      <td>16406761.0</td>\n      <td>16529335.0</td>\n      <td>16776185.0</td>\n      <td>16516341.0</td>\n      <td>130823.0</td>\n      <td>59537.0</td>\n      <td>78680.0</td>\n      <td>4</td>\n      <td>5</td>\n      <td>6</td>\n    </tr>\n    <tr>\n      <th>277998</th>\n      <td>15522.0</td>\n      <td>16392256.0</td>\n      <td>16529440.0</td>\n      <td>16776182.0</td>\n      <td>16518429.0</td>\n      <td>130300.0</td>\n      <td>59537.0</td>\n      <td>78680.0</td>\n      <td>4</td>\n      <td>5</td>\n      <td>6</td>\n    </tr>\n    <tr>\n      <th>277999</th>\n      <td>15522.0</td>\n      <td>16384164.0</td>\n      <td>16529535.0</td>\n      <td>16776182.0</td>\n      <td>16519540.0</td>\n      <td>130094.0</td>\n      <td>59537.0</td>\n      <td>78680.0</td>\n      <td>4</td>\n      <td>5</td>\n      <td>6</td>\n    </tr>\n  </tbody>\n</table>\n<p>278000 rows × 11 columns</p>\n</div>"
     },
     "metadata": {},
     "execution_count": 13
    }
   ],
   "source": [
    "df = pd.read_pickle(\"./erml_data/170C278A4218594D54F130A88FF85203.pkl\")\n",
    "df"
   ]
  },
  {
   "source": [
    "### Filter out raw data (first 8 columns) of the dataset\n",
    "* For each subject there are 11 columns in each DataFrame.\n",
    "* Colums 1-8 are sensor data which are sampled at 250 Hz. Columns 9-11 are the corresponding labels."
   ],
   "cell_type": "markdown",
   "metadata": {}
  },
  {
   "cell_type": "code",
   "execution_count": 21,
   "metadata": {},
   "outputs": [],
   "source": [
    "df = df.filter(['Temperature', 'GSR', 'EOG1', 'EOG2', 'EEG1', 'EEG2', 'RED_RAW', 'IR_RAW'])"
   ]
  },
  {
   "cell_type": "code",
   "execution_count": 15,
   "metadata": {},
   "outputs": [
    {
     "output_type": "execute_result",
     "data": {
      "text/plain": [
       "                GSR\n",
       "count  2.780000e+05\n",
       "mean   1.426679e+07\n",
       "std    4.814708e+06\n",
       "min    0.000000e+00\n",
       "25%    1.536955e+07\n",
       "50%    1.588633e+07\n",
       "75%    1.628292e+07\n",
       "max    1.677721e+07"
      ],
      "text/html": "<div>\n<style scoped>\n    .dataframe tbody tr th:only-of-type {\n        vertical-align: middle;\n    }\n\n    .dataframe tbody tr th {\n        vertical-align: top;\n    }\n\n    .dataframe thead th {\n        text-align: right;\n    }\n</style>\n<table border=\"1\" class=\"dataframe\">\n  <thead>\n    <tr style=\"text-align: right;\">\n      <th></th>\n      <th>GSR</th>\n    </tr>\n  </thead>\n  <tbody>\n    <tr>\n      <th>count</th>\n      <td>2.780000e+05</td>\n    </tr>\n    <tr>\n      <th>mean</th>\n      <td>1.426679e+07</td>\n    </tr>\n    <tr>\n      <th>std</th>\n      <td>4.814708e+06</td>\n    </tr>\n    <tr>\n      <th>min</th>\n      <td>0.000000e+00</td>\n    </tr>\n    <tr>\n      <th>25%</th>\n      <td>1.536955e+07</td>\n    </tr>\n    <tr>\n      <th>50%</th>\n      <td>1.588633e+07</td>\n    </tr>\n    <tr>\n      <th>75%</th>\n      <td>1.628292e+07</td>\n    </tr>\n    <tr>\n      <th>max</th>\n      <td>1.677721e+07</td>\n    </tr>\n  </tbody>\n</table>\n</div>"
     },
     "metadata": {},
     "execution_count": 15
    }
   ],
   "source": [
    "gsr_copy = df.filter(['GSR'])\n",
    "gsr_copy.describe()"
   ]
  },
  {
   "cell_type": "code",
   "execution_count": 16,
   "metadata": {},
   "outputs": [
    {
     "output_type": "execute_result",
     "data": {
      "text/plain": [
       "GSR    278000\n",
       "dtype: int64"
      ]
     },
     "metadata": {},
     "execution_count": 16
    }
   ],
   "source": [
    "# remove outliers for GSR column, 3 is the threshold to consider\n",
    "gsr_cln_cpy = gsr_copy[(np.abs(stats.zscore(gsr_copy)) < 3)]\n",
    "gsr_cln_cpy.count()"
   ]
  },
  {
   "cell_type": "code",
   "execution_count": 17,
   "metadata": {},
   "outputs": [
    {
     "output_type": "execute_result",
     "data": {
      "text/plain": [
       "             GSR\n",
       "0       0.861653\n",
       "1       0.854814\n",
       "2       0.845929\n",
       "3       0.854637\n",
       "4       0.859587\n",
       "...          ...\n",
       "277995  0.976569\n",
       "277996  0.977386\n",
       "277997  0.977919\n",
       "277998  0.977055\n",
       "277999  0.976572\n",
       "\n",
       "[278000 rows x 1 columns]"
      ],
      "text/html": "<div>\n<style scoped>\n    .dataframe tbody tr th:only-of-type {\n        vertical-align: middle;\n    }\n\n    .dataframe tbody tr th {\n        vertical-align: top;\n    }\n\n    .dataframe thead th {\n        text-align: right;\n    }\n</style>\n<table border=\"1\" class=\"dataframe\">\n  <thead>\n    <tr style=\"text-align: right;\">\n      <th></th>\n      <th>GSR</th>\n    </tr>\n  </thead>\n  <tbody>\n    <tr>\n      <th>0</th>\n      <td>0.861653</td>\n    </tr>\n    <tr>\n      <th>1</th>\n      <td>0.854814</td>\n    </tr>\n    <tr>\n      <th>2</th>\n      <td>0.845929</td>\n    </tr>\n    <tr>\n      <th>3</th>\n      <td>0.854637</td>\n    </tr>\n    <tr>\n      <th>4</th>\n      <td>0.859587</td>\n    </tr>\n    <tr>\n      <th>...</th>\n      <td>...</td>\n    </tr>\n    <tr>\n      <th>277995</th>\n      <td>0.976569</td>\n    </tr>\n    <tr>\n      <th>277996</th>\n      <td>0.977386</td>\n    </tr>\n    <tr>\n      <th>277997</th>\n      <td>0.977919</td>\n    </tr>\n    <tr>\n      <th>277998</th>\n      <td>0.977055</td>\n    </tr>\n    <tr>\n      <th>277999</th>\n      <td>0.976572</td>\n    </tr>\n  </tbody>\n</table>\n<p>278000 rows × 1 columns</p>\n</div>"
     },
     "metadata": {},
     "execution_count": 17
    }
   ],
   "source": [
    "# implement min-max normalization for GSR column\n",
    "normalized_gsr = (gsr_copy-gsr_copy.min())/(gsr_copy.max()-gsr_copy.min())\n",
    "normalized_gsr"
   ]
  },
  {
   "cell_type": "code",
   "execution_count": 18,
   "metadata": {},
   "outputs": [
    {
     "output_type": "execute_result",
     "data": {
      "text/plain": [
       "Temperature    277338\n",
       "GSR            277338\n",
       "EOG1           277338\n",
       "EOG2           277338\n",
       "EEG1           277338\n",
       "EEG2           277338\n",
       "RED_RAW        277338\n",
       "IR_RAW         277338\n",
       "dtype: int64"
      ]
     },
     "metadata": {},
     "execution_count": 18
    }
   ],
   "source": [
    "# remove outliers for all columns, 3 is the threshold to consider\n",
    "df_cln_cpy = df[(np.abs(stats.zscore(df)) < 3).all(axis=1)]\n",
    "df_cln_cpy.count()"
   ]
  },
  {
   "cell_type": "code",
   "execution_count": 19,
   "metadata": {},
   "outputs": [
    {
     "output_type": "execute_result",
     "data": {
      "text/plain": [
       "        Temperature       GSR      EOG1      EOG2      EEG1      EEG2  \\\n",
       "0          0.149171  0.861653  0.914107  0.999968  0.240309  0.853650   \n",
       "1          0.149171  0.854814  0.914119  0.999968  0.267228  0.852369   \n",
       "2          0.149171  0.845929  0.914200  0.999970  0.291309  0.849704   \n",
       "3          0.149171  0.854637  0.914193  0.999970  0.256699  0.851457   \n",
       "4          0.149171  0.859587  0.914189  0.999968  0.229037  0.851680   \n",
       "...             ...       ...       ...       ...       ...       ...   \n",
       "277995     0.801105  0.976569  0.985242  0.999969  0.984254  0.007688   \n",
       "277996     0.801105  0.977386  0.985247  0.999969  0.984636  0.007815   \n",
       "277997     0.801105  0.977919  0.985228  0.999969  0.984451  0.007798   \n",
       "277998     0.801105  0.977055  0.985235  0.999969  0.984575  0.007766   \n",
       "277999     0.801105  0.976572  0.985240  0.999969  0.984641  0.007754   \n",
       "\n",
       "         RED_RAW    IR_RAW  \n",
       "0       0.892609  0.871398  \n",
       "1       0.892609  0.871398  \n",
       "2       0.892609  0.871398  \n",
       "3       0.892609  0.871398  \n",
       "4       0.892609  0.871398  \n",
       "...          ...       ...  \n",
       "277995  0.115217  0.255319  \n",
       "277996  0.115217  0.255319  \n",
       "277997  0.115217  0.255319  \n",
       "277998  0.115217  0.255319  \n",
       "277999  0.115217  0.255319  \n",
       "\n",
       "[278000 rows x 8 columns]"
      ],
      "text/html": "<div>\n<style scoped>\n    .dataframe tbody tr th:only-of-type {\n        vertical-align: middle;\n    }\n\n    .dataframe tbody tr th {\n        vertical-align: top;\n    }\n\n    .dataframe thead th {\n        text-align: right;\n    }\n</style>\n<table border=\"1\" class=\"dataframe\">\n  <thead>\n    <tr style=\"text-align: right;\">\n      <th></th>\n      <th>Temperature</th>\n      <th>GSR</th>\n      <th>EOG1</th>\n      <th>EOG2</th>\n      <th>EEG1</th>\n      <th>EEG2</th>\n      <th>RED_RAW</th>\n      <th>IR_RAW</th>\n    </tr>\n  </thead>\n  <tbody>\n    <tr>\n      <th>0</th>\n      <td>0.149171</td>\n      <td>0.861653</td>\n      <td>0.914107</td>\n      <td>0.999968</td>\n      <td>0.240309</td>\n      <td>0.853650</td>\n      <td>0.892609</td>\n      <td>0.871398</td>\n    </tr>\n    <tr>\n      <th>1</th>\n      <td>0.149171</td>\n      <td>0.854814</td>\n      <td>0.914119</td>\n      <td>0.999968</td>\n      <td>0.267228</td>\n      <td>0.852369</td>\n      <td>0.892609</td>\n      <td>0.871398</td>\n    </tr>\n    <tr>\n      <th>2</th>\n      <td>0.149171</td>\n      <td>0.845929</td>\n      <td>0.914200</td>\n      <td>0.999970</td>\n      <td>0.291309</td>\n      <td>0.849704</td>\n      <td>0.892609</td>\n      <td>0.871398</td>\n    </tr>\n    <tr>\n      <th>3</th>\n      <td>0.149171</td>\n      <td>0.854637</td>\n      <td>0.914193</td>\n      <td>0.999970</td>\n      <td>0.256699</td>\n      <td>0.851457</td>\n      <td>0.892609</td>\n      <td>0.871398</td>\n    </tr>\n    <tr>\n      <th>4</th>\n      <td>0.149171</td>\n      <td>0.859587</td>\n      <td>0.914189</td>\n      <td>0.999968</td>\n      <td>0.229037</td>\n      <td>0.851680</td>\n      <td>0.892609</td>\n      <td>0.871398</td>\n    </tr>\n    <tr>\n      <th>...</th>\n      <td>...</td>\n      <td>...</td>\n      <td>...</td>\n      <td>...</td>\n      <td>...</td>\n      <td>...</td>\n      <td>...</td>\n      <td>...</td>\n    </tr>\n    <tr>\n      <th>277995</th>\n      <td>0.801105</td>\n      <td>0.976569</td>\n      <td>0.985242</td>\n      <td>0.999969</td>\n      <td>0.984254</td>\n      <td>0.007688</td>\n      <td>0.115217</td>\n      <td>0.255319</td>\n    </tr>\n    <tr>\n      <th>277996</th>\n      <td>0.801105</td>\n      <td>0.977386</td>\n      <td>0.985247</td>\n      <td>0.999969</td>\n      <td>0.984636</td>\n      <td>0.007815</td>\n      <td>0.115217</td>\n      <td>0.255319</td>\n    </tr>\n    <tr>\n      <th>277997</th>\n      <td>0.801105</td>\n      <td>0.977919</td>\n      <td>0.985228</td>\n      <td>0.999969</td>\n      <td>0.984451</td>\n      <td>0.007798</td>\n      <td>0.115217</td>\n      <td>0.255319</td>\n    </tr>\n    <tr>\n      <th>277998</th>\n      <td>0.801105</td>\n      <td>0.977055</td>\n      <td>0.985235</td>\n      <td>0.999969</td>\n      <td>0.984575</td>\n      <td>0.007766</td>\n      <td>0.115217</td>\n      <td>0.255319</td>\n    </tr>\n    <tr>\n      <th>277999</th>\n      <td>0.801105</td>\n      <td>0.976572</td>\n      <td>0.985240</td>\n      <td>0.999969</td>\n      <td>0.984641</td>\n      <td>0.007754</td>\n      <td>0.115217</td>\n      <td>0.255319</td>\n    </tr>\n  </tbody>\n</table>\n<p>278000 rows × 8 columns</p>\n</div>"
     },
     "metadata": {},
     "execution_count": 19
    }
   ],
   "source": [
    "norm_result = df.copy()\n",
    "# implement min-max normalization for all columns\n",
    "for feature_name in df.columns: \n",
    "    max_value = df[feature_name].max()\n",
    "    min_value = df[feature_name].min()\n",
    "    norm_result[feature_name] = (df[feature_name] - min_value) / (max_value - min_value)\n",
    "norm_result"
   ]
  },
  {
   "cell_type": "code",
   "execution_count": 23,
   "metadata": {},
   "outputs": [
    {
     "output_type": "execute_result",
     "data": {
      "text/plain": [
       "        Temperature         GSR        EOG1        EOG2        EEG1  \\\n",
       "0           15404.0  14456140.0  15336120.0  16776161.0   4031711.0   \n",
       "1           15404.0  14341397.0  15336324.0  16776164.0   4483347.0   \n",
       "2           15404.0  14192337.0  15337673.0  16776194.0   4887349.0   \n",
       "3           15404.0  14338432.0  15337555.0  16776200.0   4306698.0   \n",
       "4           15404.0  14421469.0  15337494.0  16776171.0   3842609.0   \n",
       "...             ...         ...         ...         ...         ...   \n",
       "277995      15522.0  16384102.0  16529564.0  16776179.0  16513047.0   \n",
       "277996      15522.0  16397812.0  16529640.0  16776184.0  16519450.0   \n",
       "277997      15522.0  16406761.0  16529335.0  16776185.0  16516341.0   \n",
       "277998      15522.0  16392256.0  16529440.0  16776182.0  16518429.0   \n",
       "277999      15522.0  16384164.0  16529535.0  16776182.0  16519540.0   \n",
       "\n",
       "              EEG2  RED_RAW   IR_RAW  Arousal  Dominance  Valence  \n",
       "0       14321874.0  63113.0  83255.0        4          5        6  \n",
       "1       14300379.0  63113.0  83255.0        4          5        6  \n",
       "2       14255666.0  63113.0  83255.0        4          5        6  \n",
       "3       14285075.0  63113.0  83255.0        4          5        6  \n",
       "4       14288817.0  63113.0  83255.0        4          5        6  \n",
       "...            ...      ...      ...      ...        ...      ...  \n",
       "277995    128986.0  59537.0  78680.0        4          5        6  \n",
       "277996    131112.0  59537.0  78680.0        4          5        6  \n",
       "277997    130823.0  59537.0  78680.0        4          5        6  \n",
       "277998    130300.0  59537.0  78680.0        4          5        6  \n",
       "277999    130094.0  59537.0  78680.0        4          5        6  \n",
       "\n",
       "[278000 rows x 11 columns]"
      ],
      "text/html": "<div>\n<style scoped>\n    .dataframe tbody tr th:only-of-type {\n        vertical-align: middle;\n    }\n\n    .dataframe tbody tr th {\n        vertical-align: top;\n    }\n\n    .dataframe thead th {\n        text-align: right;\n    }\n</style>\n<table border=\"1\" class=\"dataframe\">\n  <thead>\n    <tr style=\"text-align: right;\">\n      <th></th>\n      <th>Temperature</th>\n      <th>GSR</th>\n      <th>EOG1</th>\n      <th>EOG2</th>\n      <th>EEG1</th>\n      <th>EEG2</th>\n      <th>RED_RAW</th>\n      <th>IR_RAW</th>\n      <th>Arousal</th>\n      <th>Dominance</th>\n      <th>Valence</th>\n    </tr>\n  </thead>\n  <tbody>\n    <tr>\n      <th>0</th>\n      <td>15404.0</td>\n      <td>14456140.0</td>\n      <td>15336120.0</td>\n      <td>16776161.0</td>\n      <td>4031711.0</td>\n      <td>14321874.0</td>\n      <td>63113.0</td>\n      <td>83255.0</td>\n      <td>4</td>\n      <td>5</td>\n      <td>6</td>\n    </tr>\n    <tr>\n      <th>1</th>\n      <td>15404.0</td>\n      <td>14341397.0</td>\n      <td>15336324.0</td>\n      <td>16776164.0</td>\n      <td>4483347.0</td>\n      <td>14300379.0</td>\n      <td>63113.0</td>\n      <td>83255.0</td>\n      <td>4</td>\n      <td>5</td>\n      <td>6</td>\n    </tr>\n    <tr>\n      <th>2</th>\n      <td>15404.0</td>\n      <td>14192337.0</td>\n      <td>15337673.0</td>\n      <td>16776194.0</td>\n      <td>4887349.0</td>\n      <td>14255666.0</td>\n      <td>63113.0</td>\n      <td>83255.0</td>\n      <td>4</td>\n      <td>5</td>\n      <td>6</td>\n    </tr>\n    <tr>\n      <th>3</th>\n      <td>15404.0</td>\n      <td>14338432.0</td>\n      <td>15337555.0</td>\n      <td>16776200.0</td>\n      <td>4306698.0</td>\n      <td>14285075.0</td>\n      <td>63113.0</td>\n      <td>83255.0</td>\n      <td>4</td>\n      <td>5</td>\n      <td>6</td>\n    </tr>\n    <tr>\n      <th>4</th>\n      <td>15404.0</td>\n      <td>14421469.0</td>\n      <td>15337494.0</td>\n      <td>16776171.0</td>\n      <td>3842609.0</td>\n      <td>14288817.0</td>\n      <td>63113.0</td>\n      <td>83255.0</td>\n      <td>4</td>\n      <td>5</td>\n      <td>6</td>\n    </tr>\n    <tr>\n      <th>...</th>\n      <td>...</td>\n      <td>...</td>\n      <td>...</td>\n      <td>...</td>\n      <td>...</td>\n      <td>...</td>\n      <td>...</td>\n      <td>...</td>\n      <td>...</td>\n      <td>...</td>\n      <td>...</td>\n    </tr>\n    <tr>\n      <th>277995</th>\n      <td>15522.0</td>\n      <td>16384102.0</td>\n      <td>16529564.0</td>\n      <td>16776179.0</td>\n      <td>16513047.0</td>\n      <td>128986.0</td>\n      <td>59537.0</td>\n      <td>78680.0</td>\n      <td>4</td>\n      <td>5</td>\n      <td>6</td>\n    </tr>\n    <tr>\n      <th>277996</th>\n      <td>15522.0</td>\n      <td>16397812.0</td>\n      <td>16529640.0</td>\n      <td>16776184.0</td>\n      <td>16519450.0</td>\n      <td>131112.0</td>\n      <td>59537.0</td>\n      <td>78680.0</td>\n      <td>4</td>\n      <td>5</td>\n      <td>6</td>\n    </tr>\n    <tr>\n      <th>277997</th>\n      <td>15522.0</td>\n      <td>16406761.0</td>\n      <td>16529335.0</td>\n      <td>16776185.0</td>\n      <td>16516341.0</td>\n      <td>130823.0</td>\n      <td>59537.0</td>\n      <td>78680.0</td>\n      <td>4</td>\n      <td>5</td>\n      <td>6</td>\n    </tr>\n    <tr>\n      <th>277998</th>\n      <td>15522.0</td>\n      <td>16392256.0</td>\n      <td>16529440.0</td>\n      <td>16776182.0</td>\n      <td>16518429.0</td>\n      <td>130300.0</td>\n      <td>59537.0</td>\n      <td>78680.0</td>\n      <td>4</td>\n      <td>5</td>\n      <td>6</td>\n    </tr>\n    <tr>\n      <th>277999</th>\n      <td>15522.0</td>\n      <td>16384164.0</td>\n      <td>16529535.0</td>\n      <td>16776182.0</td>\n      <td>16519540.0</td>\n      <td>130094.0</td>\n      <td>59537.0</td>\n      <td>78680.0</td>\n      <td>4</td>\n      <td>5</td>\n      <td>6</td>\n    </tr>\n  </tbody>\n</table>\n<p>278000 rows × 11 columns</p>\n</div>"
     },
     "metadata": {},
     "execution_count": 23
    }
   ],
   "source": [
    "rdf = pd.read_pickle(\"./erml_data/170C278A4218594D54F130A88FF85203.pkl\")\n",
    "rdf"
   ]
  },
  {
   "source": [
    "# Finding outliers in dataset \n",
    "### What is an outlier?\n",
    "An outlier is a data point in a data set that is distant from all other observations. A data point that lies outside the overall distribution of the dataset.\n",
    "\n",
    "### What are the criteria to identify an outlier?\n",
    "- Data point that falls outside of 1.5 times of an interquartile range above the 3rd quartile and below the 1st quartile\n",
    "- Data point that falls outside of 3 standard deviations. we can use a z score and if the z score falls outside of 2 standard deviation\n",
    "\n",
    "### What is the reason for an outlier to exists in a dataset?\n",
    "An outlier could exist in a dataset due to:\n",
    "- Variability in the data\n",
    "- An experimental measurement error\n",
    "\n",
    "### What is the impact of an outlier?\n",
    "Causes serious issues for statistical analysis like:\n",
    "- Skew the data\n",
    "- Significant impact on mean\n",
    "- Significant impact on standard deviation\n",
    "\n",
    "### How can we identify an outlier?\n",
    "- Using scatter plots\n",
    "- Using Z score\n",
    "- Using the IQR interquartile range\n",
    "- Using Scatter Plot "
   ],
   "cell_type": "markdown",
   "metadata": {}
  },
  {
   "cell_type": "code",
   "execution_count": 24,
   "metadata": {},
   "outputs": [
    {
     "output_type": "error",
     "ename": "NameError",
     "evalue": "name 'test' is not defined",
     "traceback": [
      "\u001b[1;31m---------------------------------------------------------------------------\u001b[0m",
      "\u001b[1;31mNameError\u001b[0m                                 Traceback (most recent call last)",
      "\u001b[1;32m<ipython-input-24-4e1243bd22c6>\u001b[0m in \u001b[0;36m<module>\u001b[1;34m\u001b[0m\n\u001b[1;32m----> 1\u001b[1;33m \u001b[0mtest\u001b[0m\u001b[1;33m\u001b[0m\u001b[1;33m\u001b[0m\u001b[0m\n\u001b[0m",
      "\u001b[1;31mNameError\u001b[0m: name 'test' is not defined"
     ]
    }
   ],
   "source": [
    "test"
   ]
  }
 ],
 "metadata": {
  "kernelspec": {
   "name": "pythonjvsc74a57bd0b0cc60935782cd786f7310a4cb0dbf072e5baab0e59700fe87972b8708fde068",
   "display_name": "Python 3.8.3  ('erml-env': venv)"
  },
  "language_info": {
   "codemirror_mode": {
    "name": "ipython",
    "version": 3
   },
   "file_extension": ".py",
   "mimetype": "text/x-python",
   "name": "python",
   "nbconvert_exporter": "python",
   "pygments_lexer": "ipython3",
   "version": "3.8.3"
  },
  "metadata": {
   "interpreter": {
    "hash": "b0cc60935782cd786f7310a4cb0dbf072e5baab0e59700fe87972b8708fde068"
   }
  }
 },
 "nbformat": 4,
 "nbformat_minor": 4
}